{
  "nbformat": 4,
  "nbformat_minor": 0,
  "metadata": {
    "colab": {
      "provenance": [],
      "authorship_tag": "ABX9TyM8i3yMdqF4zIr1IoB0O69Y",
      "include_colab_link": true
    },
    "kernelspec": {
      "name": "python3",
      "display_name": "Python 3"
    },
    "language_info": {
      "name": "python"
    }
  },
  "cells": [
    {
      "cell_type": "markdown",
      "metadata": {
        "id": "view-in-github",
        "colab_type": "text"
      },
      "source": [
        "<a href=\"https://colab.research.google.com/github/Maisha1714/Interview_Question/blob/main/Interview_Problem.ipynb\" target=\"_parent\"><img src=\"https://colab.research.google.com/assets/colab-badge.svg\" alt=\"Open In Colab\"/></a>"
      ]
    },
    {
      "cell_type": "markdown",
      "source": [
        "Problem Statement"
      ],
      "metadata": {
        "id": "r8QEvUbFzMyk"
      }
    },
    {
      "cell_type": "markdown",
      "source": [
        "Write a function that takes two parameters - both are lists of names. Your task is to return a combined list containing all unique names from both lists (i.e., no duplicates in the final result).\n",
        "\n",
        "list1 = [\"Hasan\", \"Rafi\", \"Nayeem\", \"Rasel\"]\n",
        "list2 = [\"Rafi\", \"Nayeem\", \"Sakib\", \"Apon\"]\n",
        "\n",
        "Output = [\"Hasan\", \"Rafi\", \"Nayeem\", \"Rasel\", \"Sakib\", \"Apon\"]"
      ],
      "metadata": {
        "id": "cFfJozbztWat"
      }
    },
    {
      "cell_type": "code",
      "source": [
        "#Without Built-in Function\n",
        "\n",
        "def UNIQUELIST(list1,list2):\n",
        "  m_list = []\n",
        "  for i in list1:\n",
        "    if i not in m_list:\n",
        "      m_list.append(i)\n",
        "  for j in list2:\n",
        "    if j not in m_list:\n",
        "      m_list.append(j)\n",
        "  print(m_list)\n",
        "\n",
        "list1 = [\"Hasan\", \"Rafi\", \"Nayeem\", \"Rasel\"]\n",
        "list2 = [\"Rafi\", \"Nayeem\", \"Sakib\", \"Apon\"]\n",
        "\n",
        "UNIQUELIST(list1,list2)"
      ],
      "metadata": {
        "colab": {
          "base_uri": "https://localhost:8080/"
        },
        "id": "6vpjACYRzP0V",
        "outputId": "d3eb8518-19d9-4607-aed4-dcead49eca34"
      },
      "execution_count": 2,
      "outputs": [
        {
          "output_type": "stream",
          "name": "stdout",
          "text": [
            "['Hasan', 'Rafi', 'Nayeem', 'Rasel', 'Sakib', 'Apon']\n"
          ]
        }
      ]
    }
  ]
}